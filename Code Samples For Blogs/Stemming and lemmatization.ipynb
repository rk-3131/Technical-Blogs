{
 "cells": [
  {
   "cell_type": "code",
   "execution_count": 1,
   "id": "321c3167",
   "metadata": {},
   "outputs": [],
   "source": [
    "import nltk\n",
    "from nltk.stem import PorterStemmer"
   ]
  },
  {
   "cell_type": "markdown",
   "id": "b9625b5d",
   "metadata": {},
   "source": [
    "# Stemming Example along with code"
   ]
  },
  {
   "cell_type": "code",
   "execution_count": 2,
   "id": "d53c5890",
   "metadata": {},
   "outputs": [],
   "source": [
    "# Create a stemmer object\n",
    "stemmer = PorterStemmer()"
   ]
  },
  {
   "cell_type": "code",
   "execution_count": 3,
   "id": "358e457f",
   "metadata": {},
   "outputs": [],
   "source": [
    "# Input words\n",
    "words = [\"jumping\", \"jumps\", \"jumped\"]"
   ]
  },
  {
   "cell_type": "code",
   "execution_count": 4,
   "id": "1c4eacc2",
   "metadata": {},
   "outputs": [],
   "source": [
    "# Apply stemming\n",
    "stemmed_words = [stemmer.stem(word) for word in words]"
   ]
  },
  {
   "cell_type": "code",
   "execution_count": 5,
   "id": "706ba204",
   "metadata": {},
   "outputs": [
    {
     "name": "stdout",
     "output_type": "stream",
     "text": [
      "Original Words: ['jumping', 'jumps', 'jumped']\n",
      "Stemmed Words: ['jump', 'jump', 'jump']\n"
     ]
    }
   ],
   "source": [
    "print(\"Original Words:\", words)\n",
    "print(\"Stemmed Words:\", stemmed_words)"
   ]
  },
  {
   "cell_type": "markdown",
   "id": "7d9592b8",
   "metadata": {},
   "source": [
    "# Lemmatization example"
   ]
  },
  {
   "cell_type": "code",
   "execution_count": 6,
   "id": "59051309",
   "metadata": {},
   "outputs": [],
   "source": [
    "import spacy"
   ]
  },
  {
   "cell_type": "code",
   "execution_count": 7,
   "id": "14354b1c",
   "metadata": {},
   "outputs": [],
   "source": [
    "# Load the spaCy English language model\n",
    "nlp = spacy.load(\"en_core_web_sm\")"
   ]
  },
  {
   "cell_type": "code",
   "execution_count": 8,
   "id": "8ebb00e5",
   "metadata": {},
   "outputs": [],
   "source": [
    "# List of words to be lemmatized\n",
    "words = [\"running\", \"better\", \"flies\", \"laughing\"]"
   ]
  },
  {
   "cell_type": "code",
   "execution_count": 9,
   "id": "4ab57293",
   "metadata": {},
   "outputs": [
    {
     "name": "stdout",
     "output_type": "stream",
     "text": [
      "running -> run\n",
      "better -> well\n",
      "flies -> fly\n",
      "laughing -> laugh\n"
     ]
    }
   ],
   "source": [
    "# Lemmatize each word and print the results\n",
    "for word in words:\n",
    "    lemma = nlp(word)[0].lemma_\n",
    "    print(f\"{word} -> {lemma}\")"
   ]
  },
  {
   "cell_type": "code",
   "execution_count": null,
   "id": "9bab3318",
   "metadata": {},
   "outputs": [],
   "source": []
  },
  {
   "cell_type": "code",
   "execution_count": null,
   "id": "bd116ff2",
   "metadata": {},
   "outputs": [],
   "source": []
  }
 ],
 "metadata": {
  "kernelspec": {
   "display_name": "Python 3 (ipykernel)",
   "language": "python",
   "name": "python3"
  },
  "language_info": {
   "codemirror_mode": {
    "name": "ipython",
    "version": 3
   },
   "file_extension": ".py",
   "mimetype": "text/x-python",
   "name": "python",
   "nbconvert_exporter": "python",
   "pygments_lexer": "ipython3",
   "version": "3.10.2"
  }
 },
 "nbformat": 4,
 "nbformat_minor": 5
}
