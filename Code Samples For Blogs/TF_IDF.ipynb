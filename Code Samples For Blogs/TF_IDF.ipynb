{
 "cells": [
  {
   "cell_type": "code",
   "execution_count": 1,
   "id": "fa276b50",
   "metadata": {},
   "outputs": [],
   "source": [
    "# import required module\n",
    "from sklearn.feature_extraction.text import TfidfVectorizer\n",
    "# Sklearn provided many text processing tools out of which above is to calculate the term frequency"
   ]
  },
  {
   "cell_type": "code",
   "execution_count": 8,
   "id": "f0866859",
   "metadata": {},
   "outputs": [],
   "source": [
    "# assign documents\n",
    "d0 = 'This is about text mining'\n",
    "d1 = 'Text Mining is about text'\n",
    "d2 = 'This is all about text'\n",
    "\n",
    "# merge documents into a single corpus\n",
    "string = [d0, d1, d2]\n",
    "\n",
    "# The three document described by the d0, d1 and d3 are merged into single list where they can be used to find the scores"
   ]
  },
  {
   "cell_type": "code",
   "execution_count": 6,
   "id": "94d991c3",
   "metadata": {},
   "outputs": [],
   "source": [
    "# create object\n",
    "tfidf = TfidfVectorizer()\n",
    "\n",
    "# get tf-df values\n",
    "result = tfidf.fit_transform(string)"
   ]
  },
  {
   "cell_type": "code",
   "execution_count": 9,
   "id": "8df9aa80",
   "metadata": {},
   "outputs": [
    {
     "name": "stdout",
     "output_type": "stream",
     "text": [
      "idf values:\n",
      "about : 1.0\n",
      "all : 1.6931471805599454\n",
      "is : 1.0\n",
      "mining : 1.2876820724517808\n",
      "text : 1.0\n",
      "this : 1.2876820724517808\n"
     ]
    }
   ],
   "source": [
    "# get idf values\n",
    "print('idf values:')\n",
    "for ele1, ele2 in zip(tfidf.get_feature_names(), tfidf.idf_):\n",
    "\tprint(ele1, ':', ele2)"
   ]
  },
  {
   "cell_type": "markdown",
   "id": "e3fe877e",
   "metadata": {},
   "source": [
    "The IDF values are computed for each unique word in the corpus. The IDF measures the importance of a word in the corpus by considering its presence across all documents. Words that appear frequently across all documents get lower IDF scores, as they are considered less important. Conversely, words that appear in only a few documents get higher IDF scores, indicating their importance in distinguishing those documents."
   ]
  },
  {
   "cell_type": "code",
   "execution_count": 10,
   "id": "a1e2c321",
   "metadata": {},
   "outputs": [
    {
     "name": "stdout",
     "output_type": "stream",
     "text": [
      "\n",
      "Word indexes:\n",
      "{'this': 5, 'is': 2, 'about': 0, 'text': 4, 'mining': 3, 'all': 1}\n"
     ]
    }
   ],
   "source": [
    "# get indexing\n",
    "print('\\nWord indexes:')\n",
    "print(tfidf.vocabulary_)"
   ]
  },
  {
   "cell_type": "markdown",
   "id": "d09d1c61",
   "metadata": {},
   "source": [
    "The vocabulary_ attribute of the TfidfVectorizer provides the word-to-index mapping. It assigns an index to each unique word in the corpus. Here, the index corresponds to the position of the word in the IDF values and TF-IDF matrix."
   ]
  },
  {
   "cell_type": "code",
   "execution_count": 11,
   "id": "2a2a7ec0",
   "metadata": {},
   "outputs": [
    {
     "name": "stdout",
     "output_type": "stream",
     "text": [
      "\n",
      "tf-idf value:\n",
      "  (0, 3)\t0.5123644459248041\n",
      "  (0, 4)\t0.39789669894933666\n",
      "  (0, 0)\t0.39789669894933666\n",
      "  (0, 2)\t0.39789669894933666\n",
      "  (0, 5)\t0.5123644459248041\n",
      "  (1, 3)\t0.46531539401123007\n",
      "  (1, 4)\t0.7227178260317894\n",
      "  (1, 0)\t0.3613589130158947\n",
      "  (1, 2)\t0.3613589130158947\n",
      "  (2, 1)\t0.6172273175654565\n",
      "  (2, 4)\t0.3645443967613799\n",
      "  (2, 0)\t0.3645443967613799\n",
      "  (2, 2)\t0.3645443967613799\n",
      "  (2, 5)\t0.4694172843223779\n"
     ]
    }
   ],
   "source": [
    "# display tf-idf values\n",
    "print('\\ntf-idf value:')\n",
    "print(result)"
   ]
  },
  {
   "cell_type": "markdown",
   "id": "e6c4c68e",
   "metadata": {},
   "source": [
    "The TF-IDF values are represented as a sparse matrix, where each row corresponds to a document, and each column corresponds to a word index from the vocabulary. The values represent the TF-IDF score for each word in each document. Non-zero entries indicate that a particular word appears in the corresponding document, and the value represents its TF-IDF score."
   ]
  },
  {
   "cell_type": "code",
   "execution_count": 12,
   "id": "6a30aa5f",
   "metadata": {},
   "outputs": [
    {
     "name": "stdout",
     "output_type": "stream",
     "text": [
      "\n",
      "tf-idf values in matrix form:\n",
      "[[0.3978967  0.         0.3978967  0.51236445 0.3978967  0.51236445]\n",
      " [0.36135891 0.         0.36135891 0.46531539 0.72271783 0.        ]\n",
      " [0.3645444  0.61722732 0.3645444  0.         0.3645444  0.46941728]]\n"
     ]
    }
   ],
   "source": [
    "# in matrix form\n",
    "print('\\ntf-idf values in matrix form:')\n",
    "print(result.toarray())"
   ]
  },
  {
   "cell_type": "markdown",
   "id": "34974a9d",
   "metadata": {},
   "source": [
    "Here, the TF-IDF values are represented in dense matrix form (numpy array) for better readability. Each row corresponds to a document, and each column corresponds to a word index from the vocabulary. The values represent the TF-IDF score for each word in each document. Zero values indicate that a particular word does not appear in the corresponding document."
   ]
  },
  {
   "cell_type": "code",
   "execution_count": null,
   "id": "c8067c4f",
   "metadata": {},
   "outputs": [],
   "source": []
  }
 ],
 "metadata": {
  "kernelspec": {
   "display_name": "Python 3 (ipykernel)",
   "language": "python",
   "name": "python3"
  },
  "language_info": {
   "codemirror_mode": {
    "name": "ipython",
    "version": 3
   },
   "file_extension": ".py",
   "mimetype": "text/x-python",
   "name": "python",
   "nbconvert_exporter": "python",
   "pygments_lexer": "ipython3",
   "version": "3.10.2"
  }
 },
 "nbformat": 4,
 "nbformat_minor": 5
}
